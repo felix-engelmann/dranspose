{
 "cells": [
  {
   "cell_type": "code",
   "execution_count": null,
   "id": "00d9dbbc-f7d6-464b-9a3e-1d972129f831",
   "metadata": {},
   "outputs": [],
   "source": [
    "import json\n",
    "import glob\n",
    "from matplotlib import pyplot as plt\n",
    "import numpy as np"
   ]
  },
  {
   "cell_type": "code",
   "execution_count": null,
   "id": "cf366b0c-7a83-435e-90b7-9a9f71d89332",
   "metadata": {},
   "outputs": [],
   "source": [
    "with open(\"../../bench/raw_zmq_128.json\") as f:\n",
    "    data = json.load(f)"
   ]
  },
  {
   "cell_type": "code",
   "execution_count": null,
   "id": "720714e7-4e59-426f-9bff-96c78ce9495f",
   "metadata": {},
   "outputs": [],
   "source": [
    "for ing in data[\"times\"]:\n",
    "    plt.plot(data[\"times\"][ing], data[\"packets\"][ing], label=f\"generated packets {ing}\")\n",
    "    plt.plot(data[\"times\"][ing], data[\"tx\"][ing], label=f\"outgoing MiBi/s {ing}\")\n",
    "    plt.plot(data[\"times\"][ing], data[\"rx\"][ing], label=f\"incoming MiBi/s {ing}\")\n",
    "plt.title(f\"frames, no delay, kbytes/f\")\n",
    "plt.ylabel(\"pakets/s\")\n",
    "plt.xlabel(\"time in s\")\n",
    "plt.legend(loc='upper center', bbox_to_anchor=(0.5, -0.1))"
   ]
  },
  {
   "cell_type": "code",
   "execution_count": null,
   "id": "ac6973b0-84b6-4834-b951-32c061331920",
   "metadata": {},
   "outputs": [],
   "source": [
    "pkts={}\n",
    "bytes = {}\n",
    "for fn in glob.glob(\"../../bench/raw_zmq_*.json\"):\n",
    "    print(fn)\n",
    "    with open(fn) as f:\n",
    "        data = json.load(f)\n",
    "    ps = int(fn.split(\".\")[-2].split(\"_\")[-1])\n",
    "    print(\"pcket size\", ps)\n",
    "    for ing in data[\"times\"]:\n",
    "        \n",
    "        plt.plot(data[\"times\"][ing], data[\"packets\"][ing], label=f\"generated packets {ing}\")\n",
    "        plt.plot(data[\"times\"][ing], data[\"tx\"][ing], label=f\"outgoing MiBi/s {ing}\")\n",
    "        plt.plot(data[\"times\"][ing], data[\"rx\"][ing], label=f\"incoming MiBi/s {ing}\")\n",
    "    plt.title(f\"frames, no delay, kbytes/f\")\n",
    "    plt.ylabel(\"pakets/s\")\n",
    "    plt.xlabel(\"time in s\")\n",
    "    plt.legend(loc='upper center', bbox_to_anchor=(0.5, -0.1))\n",
    "    plt.show()\n",
    "\n",
    "    ptx = np.mean(data[\"packets\"][\"large\"][5:-5])\n",
    "    prx = np.mean(data[\"packets\"][\"small\"][5:-5])\n",
    "    btx = np.mean(data[\"tx\"][\"large\"][5:-5])\n",
    "    brx = np.mean(data[\"rx\"][\"small\"][5:-5])\n",
    "    print(\"packet tx\", ptx)\n",
    "    print(\"packet rx\", prx)\n",
    "    print(\"bytes tx\", btx)\n",
    "    print(\"bytes rx\", brx)\n",
    "\n",
    "    if 0.9 < ptx/prx < 1.1 and 0.9 < btx/brx < 1.1 :\n",
    "        pkts[ps] = np.mean([ptx,prx])\n",
    "        bytes[ps] = np.mean([btx,brx])\n",
    "    else:\n",
    "        print(\"BAD MEADUREMENT\")\n",
    "    \n",
    "    #plt.hist(data[\"packets\"][\"large\"], bins=10)\n",
    "    #break"
   ]
  },
  {
   "cell_type": "code",
   "execution_count": null,
   "id": "58a564b6-f1da-4a58-8ced-96aab15a7a57",
   "metadata": {},
   "outputs": [],
   "source": [
    "pkts"
   ]
  },
  {
   "cell_type": "code",
   "execution_count": null,
   "id": "8ae3279d-e2be-46cf-b2d4-cd46366709e0",
   "metadata": {},
   "outputs": [],
   "source": [
    "bytes"
   ]
  },
  {
   "cell_type": "code",
   "execution_count": null,
   "id": "82c506e3-0a31-49d5-ac4b-2f4f14a9e2f8",
   "metadata": {},
   "outputs": [],
   "source": [
    "plt.scatter(pkts.keys(), pkts.values())\n",
    "plt.loglog()\n",
    "plt.xlabel(\"payload size\")\n",
    "plt.ylabel(\"pkt/s throughput\")\n",
    "plt.show()"
   ]
  },
  {
   "cell_type": "code",
   "execution_count": null,
   "id": "3f03da8f-fc79-4100-bdd8-b005beefe98c",
   "metadata": {},
   "outputs": [],
   "source": [
    "plt.scatter(bytes.keys(), bytes.values())\n",
    "plt.scatter(pkts.keys(), list(map(lambda x: x[0]*x[1]/1024/1024, zip(pkts.values(), pkts.keys()))))\n",
    "plt.loglog()\n",
    "plt.xlabel(\"payload size\")\n",
    "plt.ylabel(\"bytes/s throughput\")\n",
    "plt.show()"
   ]
  },
  {
   "cell_type": "code",
   "execution_count": null,
   "id": "8b44496a-4814-4910-960d-43684df4e857",
   "metadata": {},
   "outputs": [],
   "source": []
  }
 ],
 "metadata": {
  "kernelspec": {
   "display_name": "Python 3 (ipykernel)",
   "language": "python",
   "name": "python3"
  },
  "language_info": {
   "codemirror_mode": {
    "name": "ipython",
    "version": 3
   },
   "file_extension": ".py",
   "mimetype": "text/x-python",
   "name": "python",
   "nbconvert_exporter": "python",
   "pygments_lexer": "ipython3",
   "version": "3.11.6"
  }
 },
 "nbformat": 4,
 "nbformat_minor": 5
}
